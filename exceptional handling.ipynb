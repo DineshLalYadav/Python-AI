{
 "cells": [
  {
   "cell_type": "code",
   "execution_count": null,
   "id": "8a0602be",
   "metadata": {},
   "outputs": [],
   "source": [
    "# try:\n",
    "#     <operations>\n",
    "    \n",
    "# except:\n",
    "#     <operations>"
   ]
  },
  {
   "cell_type": "code",
   "execution_count": 4,
   "id": "65d64300",
   "metadata": {},
   "outputs": [
    {
     "name": "stdout",
     "output_type": "stream",
     "text": [
      "Enter age = Ten\n",
      "The age should be int\n"
     ]
    }
   ],
   "source": [
    " try:\n",
    "    age = int(input(\"Enter age = \"))\n",
    "    \n",
    "except:\n",
    "    print(\"The age should be int\")"
   ]
  },
  {
   "cell_type": "code",
   "execution_count": 6,
   "id": "cd4dcbef",
   "metadata": {},
   "outputs": [
    {
     "name": "stdout",
     "output_type": "stream",
     "text": [
      "Enter a = Ten\n",
      "There is some error\n"
     ]
    }
   ],
   "source": [
    "try:\n",
    "    a = int(input(\"Enter a = \"))\n",
    "    b = int(input(\"Enter b = \"))\n",
    "    c = a/b\n",
    "    print(c)\n",
    "except:\n",
    "    print(\"There is some error\")"
   ]
  },
  {
   "cell_type": "code",
   "execution_count": 7,
   "id": "ca8b4898",
   "metadata": {},
   "outputs": [
    {
     "name": "stdout",
     "output_type": "stream",
     "text": [
      "Enter a = Ten\n"
     ]
    },
    {
     "ename": "ValueError",
     "evalue": "invalid literal for int() with base 10: 'Ten'",
     "output_type": "error",
     "traceback": [
      "\u001b[1;31m---------------------------------------------------------------------------\u001b[0m",
      "\u001b[1;31mValueError\u001b[0m                                Traceback (most recent call last)",
      "Cell \u001b[1;32mIn[7], line 1\u001b[0m\n\u001b[1;32m----> 1\u001b[0m a \u001b[38;5;241m=\u001b[39m \u001b[38;5;28mint\u001b[39m(\u001b[38;5;28minput\u001b[39m(\u001b[38;5;124m\"\u001b[39m\u001b[38;5;124mEnter a = \u001b[39m\u001b[38;5;124m\"\u001b[39m))\n",
      "\u001b[1;31mValueError\u001b[0m: invalid literal for int() with base 10: 'Ten'"
     ]
    }
   ],
   "source": [
    "a = int(input(\"Enter a = \"))"
   ]
  },
  {
   "cell_type": "code",
   "execution_count": 8,
   "id": "b8f766a1",
   "metadata": {},
   "outputs": [
    {
     "ename": "ZeroDivisionError",
     "evalue": "division by zero",
     "output_type": "error",
     "traceback": [
      "\u001b[1;31m---------------------------------------------------------------------------\u001b[0m",
      "\u001b[1;31mZeroDivisionError\u001b[0m                         Traceback (most recent call last)",
      "Cell \u001b[1;32mIn[8], line 1\u001b[0m\n\u001b[1;32m----> 1\u001b[0m \u001b[38;5;241m10\u001b[39m\u001b[38;5;241m/\u001b[39m\u001b[38;5;241m0\u001b[39m\n",
      "\u001b[1;31mZeroDivisionError\u001b[0m: division by zero"
     ]
    }
   ],
   "source": [
    "10/0"
   ]
  },
  {
   "cell_type": "raw",
   "id": "eeb49cba",
   "metadata": {},
   "source": [
    "try:\n",
    "    a = int(input(\"Enter a = \"))\n",
    "    b = int(input(\"Enter b = \"))\n",
    "    c = a/b\n",
    "    print(c)\n",
    "except(ValueError):\n",
    "    print(\"a and b shoud be int\")\n",
    "except(ZeroDivisionError):\n",
    "    print(\"value of b should not be 0\")"
   ]
  },
  {
   "cell_type": "code",
   "execution_count": 19,
   "id": "f043afd5",
   "metadata": {},
   "outputs": [],
   "source": [
    "assert 10 < 20"
   ]
  },
  {
   "cell_type": "code",
   "execution_count": 22,
   "id": "956c1e43",
   "metadata": {},
   "outputs": [
    {
     "name": "stdout",
     "output_type": "stream",
     "text": [
      "Enter your username: Hello\n",
      "Enter your password: admin\n",
      "The username or password does not match\n"
     ]
    }
   ],
   "source": [
    "username = \"admin\"\n",
    "password = \"admin\"\n",
    "try:\n",
    "    username1 = input(\"Enter your username: \")\n",
    "    password1 = input(\"Enter your password: \")\n",
    "    assert username == username1 and password == password1\n",
    "    print(\"You are logedin.\")\n",
    "except:\n",
    "    print(\"The username or password does not match\")"
   ]
  },
  {
   "cell_type": "code",
   "execution_count": 5,
   "id": "9e4722b9",
   "metadata": {},
   "outputs": [
    {
     "name": "stdout",
     "output_type": "stream",
     "text": [
      "Enter your username: admin\n",
      "Enter your password: admin\n",
      "You are logedin in 1 attempts.\n"
     ]
    }
   ],
   "source": [
    "c = 1\n",
    "def login():\n",
    "    global c\n",
    "    username = \"admin\"\n",
    "    password = \"admin\"\n",
    "    try:\n",
    "        username1 = input(\"Enter your username: \")\n",
    "        password1 = input(\"Enter your password: \")\n",
    "        assert username == username1 and password == password1\n",
    "        print(f\"You are logedin in {c} attempts.\")\n",
    "    except:\n",
    "        print(\"The username or password does not match\")\n",
    "        c = c+1\n",
    "        login()\n",
    "        \n",
    "login()"
   ]
  },
  {
   "cell_type": "code",
   "execution_count": 9,
   "id": "e7673d32",
   "metadata": {},
   "outputs": [
    {
     "name": "stdout",
     "output_type": "stream",
     "text": [
      "Enter your username: admin\n",
      "Enter your password: admin\n",
      "You are logedin.\n"
     ]
    }
   ],
   "source": [
    "username = \"admin\"\n",
    "password = \"admin\"\n",
    "try:\n",
    "    username1 = input(\"Enter your username: \")\n",
    "    password1 = input(\"Enter your password: \")\n",
    "    assert username == username1 and password == password1\n",
    "except:\n",
    "    print(\"The username or password does not match\")\n",
    "    \n",
    "else:\n",
    "    print(\"You are logedin.\")"
   ]
  },
  {
   "cell_type": "code",
   "execution_count": 12,
   "id": "6b6efe38",
   "metadata": {},
   "outputs": [
    {
     "name": "stdout",
     "output_type": "stream",
     "text": [
      "There is no such file\n"
     ]
    }
   ],
   "source": [
    "try:\n",
    "    file = open('my_file.txt','r')\n",
    "except:\n",
    "    print(\"There is no such file\")\n",
    "else:\n",
    "    print(file.read())\n",
    "    file.close()"
   ]
  },
  {
   "cell_type": "markdown",
   "id": "ed97210b",
   "metadata": {},
   "source": []
  }
 ],
 "metadata": {
  "kernelspec": {
   "display_name": "Python 3 (ipykernel)",
   "language": "python",
   "name": "python3"
  },
  "language_info": {
   "codemirror_mode": {
    "name": "ipython",
    "version": 3
   },
   "file_extension": ".py",
   "mimetype": "text/x-python",
   "name": "python",
   "nbconvert_exporter": "python",
   "pygments_lexer": "ipython3",
   "version": "3.11.3"
  }
 },
 "nbformat": 4,
 "nbformat_minor": 5
}
