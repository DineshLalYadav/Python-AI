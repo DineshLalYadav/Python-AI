{
 "cells": [
  {
   "cell_type": "code",
   "execution_count": 1,
   "id": "4855f9d1",
   "metadata": {},
   "outputs": [],
   "source": [
    "# pre defined function\n",
    "# print() type() list() tuple() dict() set() bool() str()"
   ]
  },
  {
   "cell_type": "code",
   "execution_count": 2,
   "id": "7ce4b5b3",
   "metadata": {},
   "outputs": [],
   "source": [
    "# # user defined function\n",
    "# def<function_name>():\n",
    "#     <operation>\n",
    "    \n",
    "#     <function_name>()"
   ]
  },
  {
   "cell_type": "code",
   "execution_count": 3,
   "id": "a38f3bec",
   "metadata": {},
   "outputs": [
    {
     "name": "stdout",
     "output_type": "stream",
     "text": [
      "Hello World\n"
     ]
    }
   ],
   "source": [
    "def hello():\n",
    "    print(\"Hello World\")\n",
    "    \n",
    "hello()"
   ]
  },
  {
   "cell_type": "code",
   "execution_count": null,
   "id": "d8e9621a",
   "metadata": {},
   "outputs": [],
   "source": [
    "def cal():\n",
    "    l = int(input(\"Enter l = \"))     # Local variable\n",
    "    b = int(input(\"Enter b = \"))     # Local variable\n",
    "    h = int(input(\"Enter h = \"))     # Local variable\n",
    "    a = l*b                          # Local variable\n",
    "    v = a*h                          # Local variable\n",
    "    print(a)\n",
    "    print(v)\n",
    "    \n",
    "cal()"
   ]
  },
  {
   "cell_type": "code",
   "execution_count": null,
   "id": "5b19ae80",
   "metadata": {},
   "outputs": [],
   "source": [
    "print(l,b,h)"
   ]
  },
  {
   "cell_type": "code",
   "execution_count": null,
   "id": "bbfac43a",
   "metadata": {},
   "outputs": [],
   "source": [
    "l = int(input(\"Enter l = \"))     # GLocal variable\n",
    "b = int(input(\"Enter b = \"))     # GLocal variable\n",
    "h = int(input(\"Enter h = \"))     # GLocal variable\n",
    "\n",
    "def cal():\n",
    "    #global a,v\n",
    "    a = l*b                          # Local variable\n",
    "    v = a*h                          # Local variable\n",
    "    print(a)\n",
    "    print(v)\n",
    "    \n",
    "cal()"
   ]
  },
  {
   "cell_type": "code",
   "execution_count": null,
   "id": "6e45231d",
   "metadata": {},
   "outputs": [],
   "source": [
    "# function without argument and no return type\n",
    "# function with argument and  no return type\n",
    "# function without argument and return type\n",
    "# function with argument and return type"
   ]
  },
  {
   "cell_type": "code",
   "execution_count": null,
   "id": "bd2ecda5",
   "metadata": {},
   "outputs": [],
   "source": [
    "l = int(input(\"Enter l = \"))     # GLocal variable\n",
    "b = int(input(\"Enter b = \"))     # GLocal variable\n",
    "h = int(input(\"Enter h = \"))     # GLocal variable\n",
    "\n",
    "def cal():\n",
    "    #global a,v\n",
    "    a = l*b                          # Local variable\n",
    "    v = a*h                          # Local variable\n",
    "    print(a)\n",
    "    print(v)\n",
    "    \n",
    "cal()"
   ]
  },
  {
   "cell_type": "code",
   "execution_count": null,
   "id": "7b813be9",
   "metadata": {},
   "outputs": [],
   "source": [
    "# function with argument and no return type\n",
    "def cal(l,b,h):                      # parameter\n",
    "    a = l*b                          # Local variable\n",
    "    v = a*h                          # Local variable\n",
    "    print(a)\n",
    "    print(v)\n",
    "    \n",
    "l = int(input(\"Enter l = \"))     # GLocal variable\n",
    "b = int(input(\"Enter b = \"))     # GLocal variable\n",
    "h = int(input(\"Enter h = \"))     # GLocal variable\n",
    "\n",
    "\n",
    "cal(l,b,h)                       # l,b,h argument"
   ]
  },
  {
   "cell_type": "code",
   "execution_count": null,
   "id": "deac740c",
   "metadata": {},
   "outputs": [],
   "source": [
    "# function with argument and no return type\n",
    "def cal(x,y,z):                      # parameter\n",
    "    a = x*y                          # Local variable\n",
    "    v = a*z                          # Local variable\n",
    "    print(a)\n",
    "    print(v)\n",
    "    \n",
    "l = int(input(\"Enter l = \"))     # GLocal variable\n",
    "b = int(input(\"Enter b = \"))     # GLocal variable\n",
    "h = int(input(\"Enter h = \"))     # GLocal variable\n",
    "\n",
    "\n",
    "cal(l,b,h)                       # l,b,h argument"
   ]
  },
  {
   "cell_type": "code",
   "execution_count": null,
   "id": "cc5de409",
   "metadata": {},
   "outputs": [],
   "source": [
    "def area(l,b):\n",
    "    a = l*b\n",
    "    print(\"The area = \",a)\n",
    "    \n",
    "def volume(l,b,h):\n",
    "    v = l*b*h\n",
    "    print(\"The volume = \",v)\n",
    "    \n",
    "l = int(input(\"Enter l = \"))     # GLocal variable\n",
    "b = int(input(\"Enter b = \"))     # GLocal variable\n",
    "h = int(input(\"Enter h = \"))     # GLocal variable\n",
    "\n",
    "area(l,b)\n",
    "volume(l,b,h)"
   ]
  },
  {
   "cell_type": "code",
   "execution_count": null,
   "id": "8bcb8e77",
   "metadata": {},
   "outputs": [],
   "source": [
    "def language(lan = \"Python\"):\n",
    "    print(lan)\n",
    "    \n",
    "language(\"c\")\n",
    "language(\"c++\")\n",
    "language(\"java\")\n",
    "language(\"c#\")\n",
    "language()"
   ]
  },
  {
   "cell_type": "code",
   "execution_count": null,
   "id": "4679e54b",
   "metadata": {},
   "outputs": [],
   "source": [
    "# function wwith return function\n",
    "def hello():\n",
    "    return \"Hello World\"\n",
    "\n",
    "print(hello())"
   ]
  },
  {
   "cell_type": "code",
   "execution_count": null,
   "id": "b62f8303",
   "metadata": {},
   "outputs": [],
   "source": [
    "def hello():\n",
    "    return \"Hello World\"\n",
    "\n",
    "x = hello()\n",
    "print(x)"
   ]
  },
  {
   "cell_type": "code",
   "execution_count": null,
   "id": "bd2cf872",
   "metadata": {},
   "outputs": [],
   "source": [
    "def cal():\n",
    "    l = int(input(\"Enter l = \"))\n",
    "    b = int(input(\"Enter b = \"))\n",
    "    a = l*b\n",
    "    return a\n",
    "\n",
    "x = cal()\n",
    "h = int(input(\"Enter h = \"))\n",
    "v = x*h\n",
    "print(\"The volume = \",v)\n",
    "print(\"The area = \",x)"
   ]
  },
  {
   "cell_type": "code",
   "execution_count": null,
   "id": "0ba1a099",
   "metadata": {},
   "outputs": [],
   "source": [
    "def cal():\n",
    "    l = int(input(\"Enter l = \"))\n",
    "    b = int(input(\"Enter b = \"))\n",
    "    h = int(input(\"Enter h = \"))\n",
    "    a = l*b\n",
    "    v = a*h\n",
    "    return a,v\n",
    "\n",
    "x = cal()\n",
    "print(x)\n",
    "area,volume = x\n",
    "print(\"The area = \",area)\n",
    "print(\"The volume \",volume)"
   ]
  },
  {
   "cell_type": "code",
   "execution_count": null,
   "id": "d90b26ae",
   "metadata": {},
   "outputs": [],
   "source": [
    "# function without argument and return type\n",
    "def cal(l,b,h):\n",
    "    a = l*b\n",
    "    v = a*h\n",
    "    return a,v\n",
    "\n",
    "l = int(input(\"Enter l = \"))\n",
    "b = int(input(\"Enter b = \"))\n",
    "h = int(input(\"Enter h = \"))\n",
    "   \n",
    "x = cal(l,b,h)\n",
    "print(x)\n",
    "area,volume = x\n",
    "print(\"The area = \",area)\n",
    "print(\"The volume \",volume)"
   ]
  },
  {
   "cell_type": "code",
   "execution_count": null,
   "id": "2a933fcb",
   "metadata": {},
   "outputs": [],
   "source": [
    "# recursive function\n",
    "def hello():\n",
    "    print(\"Hello World\")\n",
    "    hello()\n",
    "    \n",
    "hello()"
   ]
  },
  {
   "cell_type": "code",
   "execution_count": 7,
   "id": "662bc260",
   "metadata": {},
   "outputs": [
    {
     "name": "stdout",
     "output_type": "stream",
     "text": [
      "Hello World\n",
      "Press enter for more printHello World\n"
     ]
    }
   ],
   "source": [
    "def hello():\n",
    "    print(\"Hello World\")\n",
    "    x = input(\"Press enter for more print\")\n",
    "    if x == '':\n",
    "        hello()\n",
    "        \n",
    "hello()"
   ]
  },
  {
   "cell_type": "code",
   "execution_count": null,
   "id": "9fbdcf9b",
   "metadata": {},
   "outputs": [],
   "source": [
    "# lambda function\n",
    "lambda <arguments> : <operation/expression>"
   ]
  },
  {
   "cell_type": "code",
   "execution_count": 2,
   "id": "ac767e7a",
   "metadata": {},
   "outputs": [
    {
     "name": "stdout",
     "output_type": "stream",
     "text": [
      "25\n"
     ]
    }
   ],
   "source": [
    "y = lambda x:x**2\n",
    "print(y(5))"
   ]
  },
  {
   "cell_type": "code",
   "execution_count": 3,
   "id": "4ca2dfb3",
   "metadata": {},
   "outputs": [
    {
     "name": "stdout",
     "output_type": "stream",
     "text": [
      "50\n"
     ]
    }
   ],
   "source": [
    "y = lambda l,b : l*b\n",
    "print(y(10,5))"
   ]
  },
  {
   "cell_type": "code",
   "execution_count": 4,
   "id": "5e4d38c8",
   "metadata": {},
   "outputs": [
    {
     "data": {
      "text/plain": [
       "'hello world'"
      ]
     },
     "execution_count": 4,
     "metadata": {},
     "output_type": "execute_result"
    }
   ],
   "source": [
    "y = lambda x : x.lower()\n",
    "y(\"Hello World\")"
   ]
  },
  {
   "cell_type": "code",
   "execution_count": null,
   "id": "245ff1c0",
   "metadata": {},
   "outputs": [],
   "source": [
    "# filter, map\n"
   ]
  },
  {
   "cell_type": "code",
   "execution_count": 8,
   "id": "437362a4",
   "metadata": {},
   "outputs": [
    {
     "data": {
      "text/plain": [
       "[2, 4, 6, 8, 0]"
      ]
     },
     "execution_count": 8,
     "metadata": {},
     "output_type": "execute_result"
    }
   ],
   "source": [
    "a = [1,2,3,4,5,6,7,8,9,0]\n",
    "print(list(filter(lambda x : x%2==0, a)))"
   ]
  },
  {
   "cell_type": "code",
   "execution_count": 9,
   "id": "2eb4eec3",
   "metadata": {},
   "outputs": [
    {
     "data": {
      "text/plain": [
       "['CAT', 'FISH']"
      ]
     },
     "execution_count": 9,
     "metadata": {},
     "output_type": "execute_result"
    }
   ],
   "source": [
    "a = [\"apple\",\"Ball\",\"CAT\",\"Dog\",\"FISH\"]\n",
    "print(list(filter(lambda x : x.isupper(), a)))"
   ]
  },
  {
   "cell_type": "code",
   "execution_count": 10,
   "id": "4815ac94",
   "metadata": {},
   "outputs": [
    {
     "data": {
      "text/plain": [
       "['Ball', 'CAT', 'Dog', 'FISH']"
      ]
     },
     "execution_count": 10,
     "metadata": {},
     "output_type": "execute_result"
    }
   ],
   "source": [
    "a = [\"apple\",\"Ball\",\"CAT\",\"Dog\",\"FISH\"]\n",
    "print(list(filter(lambda x : x[0].isupper(), a)))"
   ]
  },
  {
   "cell_type": "code",
   "execution_count": 13,
   "id": "92da3e5c",
   "metadata": {},
   "outputs": [
    {
     "data": {
      "text/plain": [
       "['apple', 'ball', 'cat', 'dog', 'fish']"
      ]
     },
     "execution_count": 13,
     "metadata": {},
     "output_type": "execute_result"
    }
   ],
   "source": [
    "# map function\n",
    "a = [\"apple\",\"Ball\",\"CAT\",\"Dog\",\"FISH\"]\n",
    "print(list(map(lambda x: x.lower(), a)))"
   ]
  },
  {
   "cell_type": "code",
   "execution_count": 20,
   "id": "f60d1616",
   "metadata": {},
   "outputs": [
    {
     "data": {
      "text/plain": [
       "[1, 4, 9, 16, 25, 36, 49, 64, 81]"
      ]
     },
     "execution_count": 20,
     "metadata": {},
     "output_type": "execute_result"
    }
   ],
   "source": [
    "a = [1,2,3,4,5,6,7,8,9]\n",
    "print(list(map(lambda x: x**2, a)))"
   ]
  },
  {
   "cell_type": "code",
   "execution_count": 19,
   "id": "9ad2768e",
   "metadata": {},
   "outputs": [],
   "source": [
    "a = [1,2,3,4,5,6,7,8,9]\n"
   ]
  },
  {
   "cell_type": "code",
   "execution_count": null,
   "id": "dac27f45",
   "metadata": {},
   "outputs": [],
   "source": [
    "# WAP to create basic calculator using return type function\n",
    "# WAP to create billing systyem using function\n",
    "# WAP to remove ',' from the following list make it int\n",
    "# price = ['10,000','20,300','1,00,000','1,19,000']"
   ]
  },
  {
   "cell_type": "code",
   "execution_count": null,
   "id": "78c87ff0",
   "metadata": {},
   "outputs": [],
   "source": [
    "# WAP to create basic calculator using return type function\n",
    "def cal():\n",
    "    "
   ]
  },
  {
   "cell_type": "code",
   "execution_count": null,
   "id": "1e4d39ca",
   "metadata": {},
   "outputs": [],
   "source": []
  },
  {
   "cell_type": "code",
   "execution_count": null,
   "id": "14c69661",
   "metadata": {},
   "outputs": [],
   "source": []
  },
  {
   "cell_type": "code",
   "execution_count": null,
   "id": "85adfd3d",
   "metadata": {},
   "outputs": [],
   "source": []
  }
 ],
 "metadata": {
  "kernelspec": {
   "display_name": "Python 3 (ipykernel)",
   "language": "python",
   "name": "python3"
  },
  "language_info": {
   "codemirror_mode": {
    "name": "ipython",
    "version": 3
   },
   "file_extension": ".py",
   "mimetype": "text/x-python",
   "name": "python",
   "nbconvert_exporter": "python",
   "pygments_lexer": "ipython3",
   "version": "3.9.13"
  }
 },
 "nbformat": 4,
 "nbformat_minor": 5
}
