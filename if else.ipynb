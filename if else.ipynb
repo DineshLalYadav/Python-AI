{
 "cells": [
  {
   "cell_type": "code",
   "execution_count": 1,
   "id": "60319762",
   "metadata": {},
   "outputs": [],
   "source": [
    "# if <condition>:\n",
    "#     <operation>\n",
    "#     elif <condition>:\n",
    "#         <operation>\n",
    "        \n",
    "# ...\n",
    "# else:\n",
    "#     <operation>\n"
   ]
  },
  {
   "cell_type": "code",
   "execution_count": 2,
   "id": "330ebfea",
   "metadata": {},
   "outputs": [],
   "source": [
    "#comparison operator\n",
    "#  < > <= >= == !="
   ]
  },
  {
   "cell_type": "code",
   "execution_count": 4,
   "id": "9ec56dff",
   "metadata": {},
   "outputs": [
    {
     "name": "stdout",
     "output_type": "stream",
     "text": [
      "Enter age =23\n",
      "The age is equal or greater than 18\n"
     ]
    }
   ],
   "source": [
    "age = int(input(\"Enter age =\"))\n",
    "if age >=18:\n",
    "    print(\"The age is equal or greater than 18\")\n",
    "    \n",
    "else:\n",
    "        print(\"The age is smaller than 18\")"
   ]
  },
  {
   "cell_type": "code",
   "execution_count": 7,
   "id": "ee70fce0",
   "metadata": {},
   "outputs": [
    {
     "name": "stdout",
     "output_type": "stream",
     "text": [
      "Enter a =5\n",
      "The value is odd\n"
     ]
    }
   ],
   "source": [
    "a = int(input(\"Enter a =\"))\n",
    "if a % 2 == 0:\n",
    "    print(\"The value of a is even \")\n",
    "else:\n",
    "    print(\"The number is odd\")"
   ]
  },
  {
   "cell_type": "code",
   "execution_count": 11,
   "id": "499a1562",
   "metadata": {},
   "outputs": [
    {
     "name": "stdout",
     "output_type": "stream",
     "text": [
      "Enter a =10\n",
      "Enter b =10\n",
      "Both are equal \n"
     ]
    }
   ],
   "source": [
    "a = int(input(\"Enter a =\"))\n",
    "b = int(input(\"Enter b =\"))\n",
    "if a > b:\n",
    "    print(\"a is greater \")\n",
    "elif b > a:\n",
    "    print(\"b is greater \")\n",
    "else:\n",
    "    print(\"Both are equal \")"
   ]
  },
  {
   "cell_type": "code",
   "execution_count": 15,
   "id": "d87db2a2",
   "metadata": {},
   "outputs": [
    {
     "name": "stdout",
     "output_type": "stream",
     "text": [
      "Enter English =89\n",
      "Enter Physics =94\n",
      "Enter Math =98\n",
      "Enter Nepali =85\n",
      "Enter Chemistry =90\n",
      "The Total Marks = 456\n",
      "The Per = 91.2\n",
      "The garde = A\n"
     ]
    }
   ],
   "source": [
    "English = int(input(\"Enter English =\"))\n",
    "Physics = int(input(\"Enter Physics =\"))\n",
    "Math = int(input(\"Enter Math =\"))\n",
    "Nepali = int(input(\"Enter Nepali =\"))\n",
    "Chemistry = int(input(\"Enter Chemistry =\"))\n",
    "\n",
    "total = English + Physics + Math + Nepali + Chemistry\n",
    "\n",
    "per = total/500*100\n",
    "\n",
    "if per >= 80:\n",
    "    grade = 'A'\n",
    "elif per >=60:\n",
    "    grade = 'B'\n",
    "elif per >=45:\n",
    "    grade = 'C'\n",
    "else:\n",
    "    grade = 'F'\n",
    "    \n",
    "print(\"The Total Marks =\",total)\n",
    "print(\"The Per =\",per)\n",
    "print(\"The garde =\",grade)"
   ]
  },
  {
   "cell_type": "code",
   "execution_count": 17,
   "id": "87d50119",
   "metadata": {},
   "outputs": [
    {
     "name": "stdout",
     "output_type": "stream",
     "text": [
      "Enter a =25\n",
      "Enter b =30\n",
      "Enter + or - * or /  -\n",
      "-5\n"
     ]
    }
   ],
   "source": [
    "a = int(input(\"Enter a =\"))\n",
    "b = int(input(\"Enter b =\"))\n",
    "# c = int(input(\"Enter c =\"))\n",
    "o = input(\"Enter + or - * or / or \")\n",
    "if o == '+':\n",
    "    print(a+b)\n",
    "elif o == '-':\n",
    "    print(a-b)\n",
    "elif o == '*':\n",
    "    print(a*b)\n",
    "elif o == '/':\n",
    "    print(a/b)\n",
    "else:\n",
    "    print(\"Invalid operator\")"
   ]
  },
  {
   "cell_type": "code",
   "execution_count": null,
   "id": "87cf3265",
   "metadata": {},
   "outputs": [],
   "source": [
    "# # logical operator\n",
    "# and & \n",
    "# 1 * 0 = 0\n",
    "# 0 * 1 = 0\n",
    "# 0 * 0 = 0\n",
    "# 1 * 1 = 1\n",
    "\n",
    "# or |\n",
    "# 1 + 0 = 1\n",
    "# 0 + 1 = 1\n",
    "# 0 + 0 = 0\n",
    "# 1 + 1 = 2"
   ]
  },
  {
   "cell_type": "code",
   "execution_count": 1,
   "id": "f38511b0",
   "metadata": {},
   "outputs": [
    {
     "name": "stdout",
     "output_type": "stream",
     "text": [
      "False\n",
      "False\n"
     ]
    }
   ],
   "source": [
    "# and \n",
    "print(True and True)\n",
    "print(True and False)\n",
    "print(False and True)\n",
    "print(False and False)"
   ]
  },
  {
   "cell_type": "code",
   "execution_count": null,
   "id": "2a25e99d",
   "metadata": {},
   "outputs": [],
   "source": [
    "# or\n",
    "print(True or True)\n",
    "print(True or False)\n",
    "print(False or True)\n",
    "print(False or False)"
   ]
  },
  {
   "cell_type": "code",
   "execution_count": 1,
   "id": "6c8cad91",
   "metadata": {},
   "outputs": [
    {
     "name": "stdout",
     "output_type": "stream",
     "text": [
      "Enter a =9\n",
      "a is + ve and odd\n"
     ]
    }
   ],
   "source": [
    "# And\n",
    "a = int(input(\"Enter a =\"))\n",
    "if a >=0 and a%2 == 0:\n",
    "    print(\"a is + ve and even\")\n",
    "elif a>=0 and a%2 != 0:\n",
    "    print(\"a is + ve and odd\")\n",
    "elif a<0 and a%2 == 0:\n",
    "    print(\"a is - ve and even\")\n",
    "elif a<0 and a%2 != 0:\n",
    "    print(\"a is - ve and odd\")"
   ]
  },
  {
   "cell_type": "code",
   "execution_count": 2,
   "id": "eaf8e514",
   "metadata": {},
   "outputs": [
    {
     "name": "stdout",
     "output_type": "stream",
     "text": [
      "Enter English =89\n",
      "Enter Physics =99\n",
      "Enter Math =90\n",
      "Enter Nepali =97\n",
      "Enter Chemistry =87\n",
      "The Total Marks = 462\n",
      "The Per = 92.4\n",
      "The garde = A\n"
     ]
    }
   ],
   "source": [
    "English = int(input(\"Enter English =\"))\n",
    "Physics = int(input(\"Enter Physics =\"))\n",
    "Math = int(input(\"Enter Math =\"))\n",
    "Nepali = int(input(\"Enter Nepali =\"))\n",
    "Chemistry = int(input(\"Enter Chemistry =\"))\n",
    "\n",
    "total = English + Physics + Math + Nepali + Chemistry\n",
    "\n",
    "per = total/500*100\n",
    "\n",
    "if (per > 80) or (per == 80):\n",
    "    grade = 'A'\n",
    "elif (per >60) or (per == 60):\n",
    "    grade = 'B'\n",
    "elif (per >45) or (per == 45):\n",
    "    grade = 'C'\n",
    "else:\n",
    "    grade = 'F'\n",
    "    \n",
    "print(\"The Total Marks =\",total)\n",
    "print(\"The Per =\",per)\n",
    "print(\"The grade =\",grade)"
   ]
  },
  {
   "cell_type": "code",
   "execution_count": null,
   "id": "49e6b08d",
   "metadata": {},
   "outputs": [],
   "source": [
    "# # nested if else \n",
    "# if <condition>:\n",
    "#     if <condition>:\n",
    "#         <operation>\n",
    "#         else:\n",
    "#             <operation>\n",
    "            \n",
    "# else:\n",
    "#     if <condition>:\n",
    "#         <operation>\n",
    "#         else:\n",
    "#             <operation>"
   ]
  },
  {
   "cell_type": "code",
   "execution_count": 4,
   "id": "161cb570",
   "metadata": {},
   "outputs": [
    {
     "name": "stdout",
     "output_type": "stream",
     "text": [
      "Enter a =10\n",
      "Enter b =0\n",
      "Enter + or - * or / or /\n",
      "The value of b can not be zero\n"
     ]
    }
   ],
   "source": [
    "a = int(input(\"Enter a =\"))\n",
    "b = int(input(\"Enter b =\"))\n",
    "# c = int(input(\"Enter c =\"))\n",
    "o = input(\"Enter + or - * or / or \")\n",
    "if o == '+':\n",
    "    print(a+b)\n",
    "elif o == '-':\n",
    "    print(a-b)\n",
    "elif o == '*':\n",
    "    print(a*b)\n",
    "elif o == '/':\n",
    "    if b != 0:\n",
    "        print(a/b)\n",
    "    else:\n",
    "            print(\"The value of b can not be zero\")\n",
    "else:\n",
    "    print(\"Invalid operator\")"
   ]
  },
  {
   "cell_type": "code",
   "execution_count": 5,
   "id": "fa934323",
   "metadata": {},
   "outputs": [
    {
     "name": "stdout",
     "output_type": "stream",
     "text": [
      "Enter a =10\n",
      "Enter b =0\n",
      "Enter + or - * or / or /\n",
      "The value of b can not be zero\n"
     ]
    }
   ],
   "source": [
    "a = int(input(\"Enter a =\"))\n",
    "b = int(input(\"Enter b =\"))\n",
    "# c = int(input(\"Enter c =\"))\n",
    "o = input(\"Enter + or - * or / or \")\n",
    "if o == '+':\n",
    "    print(a+b)\n",
    "elif o == '-':\n",
    "    print(a-b)\n",
    "elif o == '*':\n",
    "    print(a*b)\n",
    "elif o == '/' and b != 0:\n",
    "    print(a/b)\n",
    "elif o == '/' and b == 0:\n",
    "    print(\"The value of b can not be zero\")\n",
    "else:\n",
    "    print(\"Invalid operator\")"
   ]
  },
  {
   "cell_type": "code",
   "execution_count": 11,
   "id": "52672462",
   "metadata": {},
   "outputs": [
    {
     "name": "stdout",
     "output_type": "stream",
     "text": [
      "Enter a =8\n",
      "a is + ve and even\n"
     ]
    }
   ],
   "source": [
    "# And\n",
    "a = int(input(\"Enter a =\"))\n",
    "if a >=0:\n",
    "    if a%2 == 0:\n",
    "        print(\"a is + ve and even\")\n",
    "    else:\n",
    "        print(\"a is + ve and odd\")\n",
    "else:\n",
    "    if a % 2 == 0:\n",
    "        print(\"a is - ve and even\")\n",
    "    else:\n",
    "        print(\"a is - ve and odd\")"
   ]
  },
  {
   "cell_type": "code",
   "execution_count": null,
   "id": "256bb221",
   "metadata": {},
   "outputs": [],
   "source": []
  },
  {
   "cell_type": "code",
   "execution_count": null,
   "id": "4c7f8817",
   "metadata": {},
   "outputs": [],
   "source": []
  }
 ],
 "metadata": {
  "kernelspec": {
   "display_name": "Python 3 (ipykernel)",
   "language": "python",
   "name": "python3"
  },
  "language_info": {
   "codemirror_mode": {
    "name": "ipython",
    "version": 3
   },
   "file_extension": ".py",
   "mimetype": "text/x-python",
   "name": "python",
   "nbconvert_exporter": "python",
   "pygments_lexer": "ipython3",
   "version": "3.11.3"
  }
 },
 "nbformat": 4,
 "nbformat_minor": 5
}
