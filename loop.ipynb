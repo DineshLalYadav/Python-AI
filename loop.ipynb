{
 "cells": [
  {
   "cell_type": "code",
   "execution_count": null,
   "id": "e7287565",
   "metadata": {},
   "outputs": [],
   "source": [
    "# loop\n",
    "# for loop\n",
    "# while loop"
   ]
  },
  {
   "cell_type": "code",
   "execution_count": null,
   "id": "19b16643",
   "metadata": {},
   "outputs": [],
   "source": [
    "# range(5)           #0,1,2,3,4 for(i = 0; i<5; i++;)\n",
    "# range(1,5)         #1,2,3,4   for(i=1; i<10; i++;)\n",
    "# range(1,10,2)      #1,3,5,7,9 for(i=1; i<10; i=i2)"
   ]
  },
  {
   "cell_type": "code",
   "execution_count": null,
   "id": "42b409a9",
   "metadata": {},
   "outputs": [],
   "source": [
    "for i in range(5):\n",
    "    print(i,\"Hello World\")"
   ]
  },
  {
   "cell_type": "code",
   "execution_count": null,
   "id": "b0efd190",
   "metadata": {},
   "outputs": [],
   "source": [
    "for i in range(1,5):\n",
    "    print(i,\"Hello World\")"
   ]
  },
  {
   "cell_type": "code",
   "execution_count": null,
   "id": "30f2bff5",
   "metadata": {},
   "outputs": [],
   "source": [
    "for i in range(1,10,2):\n",
    "    print(i,\"Hello World\")"
   ]
  },
  {
   "cell_type": "code",
   "execution_count": null,
   "id": "21429c25",
   "metadata": {},
   "outputs": [],
   "source": [
    "n = int(input(\"Enter n = \"))\n",
    "for i in range(1,11):\n",
    "    print(n*i)"
   ]
  },
  {
   "cell_type": "code",
   "execution_count": null,
   "id": "22df6813",
   "metadata": {},
   "outputs": [],
   "source": [
    "n = int(input(\"Enter n = \"))\n",
    "for i in range(1,11):\n",
    "    print(n,\"*\",i,\"=\",n*i)"
   ]
  },
  {
   "cell_type": "code",
   "execution_count": null,
   "id": "3df2d81b",
   "metadata": {},
   "outputs": [],
   "source": [
    "s = 0\n",
    "n = int(input(\"Enter n = \"))\n",
    "for i in range(n):\n",
    "    x = int(input(\"Enter x = \"))\n",
    "    s = s+x\n",
    "print(s)"
   ]
  },
  {
   "cell_type": "markdown",
   "id": "3f932791",
   "metadata": {},
   "source": [
    "s = 0\n",
    "n = str(input(\"Enter n = \"))\n",
    "for i in range(n):\n",
    "    x = str(input(\"Enter x = \"))\n",
    "    s = s+x\n",
    "print(s)"
   ]
  },
  {
   "cell_type": "code",
   "execution_count": null,
   "id": "02a335e0",
   "metadata": {},
   "outputs": [],
   "source": [
    "s = \"\"\n",
    "n = int(input(\"Enter n = \"))\n",
    "for i in range(n):\n",
    "    x = input(\"Enter x = \")\n",
    "    s = s+x\n",
    "print(s)"
   ]
  },
  {
   "cell_type": "code",
   "execution_count": null,
   "id": "2e4cb50b",
   "metadata": {},
   "outputs": [],
   "source": [
    "s = \"\"\n",
    "n = int(input(\"Enter n = \"))\n",
    "for i in range(n):\n",
    "    x = input(\"Enter x = \")\n",
    "    s = s + x + ' '\n",
    "print(s)"
   ]
  },
  {
   "cell_type": "code",
   "execution_count": null,
   "id": "c5f1dff1",
   "metadata": {},
   "outputs": [],
   "source": [
    "s = \"\"\n",
    "n = int(input(\"Enter n = \"))\n",
    "for i in range(n):\n",
    "    Name = input(\"Enter Name = \")\n",
    "    Phone = input(\"Enter Phone = \")\n",
    "    s = s + Name + \" \"+ Phone + \"\\n\"\n",
    "print(s)"
   ]
  },
  {
   "cell_type": "code",
   "execution_count": null,
   "id": "3cb31c45",
   "metadata": {},
   "outputs": [],
   "source": [
    "# 5! = 1*2*3*4*5\n",
    "fac = 1\n",
    "n = int(input(\"Enter n = \"))\n",
    "for i in range(1,n+1):\n",
    "    fac = fac * i\n",
    "    print(fac)"
   ]
  },
  {
   "cell_type": "code",
   "execution_count": null,
   "id": "c3484923",
   "metadata": {},
   "outputs": [],
   "source": [
    "# WAP ro create a billing system\n",
    "# name ?\n",
    "# price ?\n",
    "# qty ?\n",
    "# total ?\n",
    "# grand_total"
   ]
  },
  {
   "cell_type": "code",
   "execution_count": null,
   "id": "bce89e83",
   "metadata": {},
   "outputs": [],
   "source": [
    "def main():\n",
    "    grand_total = 0\n",
    "\n",
    "    while True:\n",
    "        name = input(\"Enter the item name (or 'exit' to finish): \")\n",
    "        if name.lower() == 'exit':\n",
    "            break\n",
    "\n",
    "        price = float(input(\"Enter the item price: \"))\n",
    "        qty = int(input(\"Enter the quantity: \"))\n",
    "\n",
    "        total = price * qty\n",
    "        grand_total += total\n",
    "\n",
    "        print(f\"Item: {name}\")\n",
    "        print(f\"Price: Rs.{price}\")\n",
    "        print(f\"Quantity: {qty}\")\n",
    "        print(f\"Total: Rs.{total}\\n\")\n",
    "\n",
    "    print(f\"Grand Total: Rs.{grand_total}\")\n",
    "\n",
    "if __name__ == \"__main__\":\n",
    "    main()\n"
   ]
  },
  {
   "cell_type": "code",
   "execution_count": null,
   "id": "3612a05b",
   "metadata": {},
   "outputs": [],
   "source": [
    "bill = \"\"\n",
    "all_total = 0\n",
    "n = int(input(\"Enter n = \"))\n",
    "for i in range(n):\n",
    "    name = input(\"Enter name = \")\n",
    "    price = int(input(\"Enter price = \"))\n",
    "    qty = int(input(\"Enter quantity = \"))\n",
    "    total = price * qty\n",
    "    bill = bill + name + \" \" + str(price) + \" \" + str(qty) + \" \" + str(total) + \"\\n\"\n",
    "    all_total = all_total + total\n",
    "    \n",
    "print(bill)"
   ]
  },
  {
   "cell_type": "code",
   "execution_count": null,
   "id": "25cebc13",
   "metadata": {},
   "outputs": [],
   "source": [
    "# for loop in string\n",
    "a = \"Apple\"\n",
    "for i in a:\n",
    "    print(i, \"Hello World\")"
   ]
  },
  {
   "cell_type": "code",
   "execution_count": null,
   "id": "aa00bd8b",
   "metadata": {},
   "outputs": [],
   "source": [
    "a = \"Hello World. I am Python.\"\n",
    "for i in a:\n",
    "    print(i,end = \" \")"
   ]
  },
  {
   "cell_type": "code",
   "execution_count": null,
   "id": "1676f6e4",
   "metadata": {},
   "outputs": [],
   "source": [
    "a = \"Hello World. I am Python.\"\n",
    "for i in a:\n",
    "    if i != \".\":\n",
    "        print(i,end = \"\")"
   ]
  },
  {
   "cell_type": "code",
   "execution_count": null,
   "id": "71202f2f",
   "metadata": {},
   "outputs": [],
   "source": [
    "# control statements\n",
    "# continue\n",
    "# break"
   ]
  },
  {
   "cell_type": "code",
   "execution_count": null,
   "id": "e64f4798",
   "metadata": {},
   "outputs": [],
   "source": [
    "# break statement\n",
    "for i in range(10):\n",
    "    if i == 5: \n",
    "        break \n",
    "        \n",
    "        print(i)"
   ]
  },
  {
   "cell_type": "code",
   "execution_count": null,
   "id": "fe641c19",
   "metadata": {},
   "outputs": [],
   "source": [
    "a = \"Hello World. I am Python.\"\n",
    "for i in a:\n",
    "    if i != \".\":\n",
    "        break\n",
    "        print(i,end = \"\")"
   ]
  },
  {
   "cell_type": "code",
   "execution_count": null,
   "id": "e87f965f",
   "metadata": {},
   "outputs": [],
   "source": [
    "# break statement\n",
    "for i in range(10):\n",
    "    if i == 5: \n",
    "        continue \n",
    "        \n",
    "    print(i)"
   ]
  },
  {
   "cell_type": "code",
   "execution_count": null,
   "id": "ed916969",
   "metadata": {},
   "outputs": [],
   "source": [
    "a = \"Hello World. I am Python.\"\n",
    "for i in a:\n",
    "    if i != \".\":\n",
    "        continue\n",
    "    print(i,end = \"\")"
   ]
  },
  {
   "cell_type": "code",
   "execution_count": null,
   "id": "cda476a9",
   "metadata": {},
   "outputs": [],
   "source": [
    "# WAP to detect if the given number is prime or composite\n",
    "# for else loop\n",
    "# prime = 2,3,4,5,7,11,13\n",
    "# composite = 4,6,8,9,10\n",
    "\n",
    "n = int(input(\"Enter n = \"))\n",
    "for i in range(2,n):  \n",
    "    if n % i == 0:\n",
    "        print(\"The no is composite\")\n",
    "        break\n",
    "else:\n",
    "    print(\"The no is prime\")"
   ]
  },
  {
   "cell_type": "code",
   "execution_count": null,
   "id": "a3fd1bfc",
   "metadata": {},
   "outputs": [],
   "source": [
    "while True:\n",
    "    print(\"Hello World\")"
   ]
  },
  {
   "cell_type": "code",
   "execution_count": 7,
   "id": "715213fc",
   "metadata": {},
   "outputs": [],
   "source": [
    "a = 0\n",
    "while a>5:\n",
    "    print(a,\"Hello World\")\n",
    "    a = a+1"
   ]
  },
  {
   "cell_type": "code",
   "execution_count": 5,
   "id": "8c030f92",
   "metadata": {},
   "outputs": [
    {
     "name": "stdout",
     "output_type": "stream",
     "text": [
      "5 Hello World\n",
      "4 Hello World\n",
      "3 Hello World\n",
      "2 Hello World\n",
      "1 Hello World\n"
     ]
    }
   ],
   "source": [
    "a = 5\n",
    "while a>0:\n",
    "    print(a,\"Hello World\")\n",
    "    a = a-1"
   ]
  },
  {
   "cell_type": "code",
   "execution_count": 1,
   "id": "263e4b75",
   "metadata": {},
   "outputs": [
    {
     "name": "stdout",
     "output_type": "stream",
     "text": [
      "5 Hello World\n",
      "4 Hello World\n",
      "3 Hello World\n",
      "2 Hello World\n",
      "1 Hello World\n",
      "0 Hello World\n"
     ]
    }
   ],
   "source": [
    "a = 5\n",
    "while a>=0:\n",
    "    print(a,\"Hello World\")\n",
    "    a = a-1"
   ]
  },
  {
   "cell_type": "code",
   "execution_count": 1,
   "id": "ad665be6",
   "metadata": {},
   "outputs": [
    {
     "name": "stdout",
     "output_type": "stream",
     "text": [
      "Enter n= 7\n",
      "7 * 1 = 7\n",
      "7 * 2 = 7\n",
      "7 * 3 = 7\n",
      "7 * 4 = 7\n",
      "7 * 5 = 7\n",
      "7 * 6 = 7\n",
      "7 * 7 = 7\n",
      "7 * 8 = 7\n",
      "7 * 9 = 7\n",
      "7 * 10 = 7\n"
     ]
    }
   ],
   "source": [
    "i = 1\n",
    "n = int(input(\"Enter n= \"))\n",
    "while i<=10:\n",
    "    print(n,\"*\",i,\"=\",n*1)\n",
    "    i = i+1"
   ]
  },
  {
   "cell_type": "code",
   "execution_count": 4,
   "id": "0d116614",
   "metadata": {},
   "outputs": [
    {
     "name": "stdout",
     "output_type": "stream",
     "text": [
      "Enter n = 2\n",
      "Enter x = 3\n",
      "Enter x = 3\n",
      "6\n"
     ]
    }
   ],
   "source": [
    "i = 0\n",
    "s = 0\n",
    "n = int(input(\"Enter n = \"))\n",
    "while i<n:\n",
    "    x = int(input(\"Enter x = \"))\n",
    "    s = s + x\n",
    "    i = i+1\n",
    "print(s)"
   ]
  },
  {
   "cell_type": "code",
   "execution_count": 8,
   "id": "92a48855",
   "metadata": {},
   "outputs": [
    {
     "name": "stdout",
     "output_type": "stream",
     "text": [
      "Enter n = 5\n",
      "120\n"
     ]
    }
   ],
   "source": [
    "# 5! = 1*2*3*4*5\n",
    "i = 1\n",
    "fac = 1\n",
    "n = int(input(\"Enter n = \"))\n",
    "while i<=n:\n",
    "    fac = fac * i\n",
    "    i = i+1\n",
    "print(fac)"
   ]
  },
  {
   "cell_type": "code",
   "execution_count": 1,
   "id": "7fd05f3a",
   "metadata": {},
   "outputs": [
    {
     "name": "stdout",
     "output_type": "stream",
     "text": [
      "Enter n = 1\n",
      "Enter name = apple\n",
      "Enter price = 24\n",
      "Enter quantity = 3\n",
      "apple 24 3 72\n",
      "\n"
     ]
    }
   ],
   "source": [
    "i = 0\n",
    "bill = \"\"\n",
    "all_total = 0\n",
    "n = int(input(\"Enter n = \"))\n",
    "while i<n:\n",
    "    name = input(\"Enter name = \")\n",
    "    price = int(input(\"Enter price = \"))\n",
    "    qty = int(input(\"Enter quantity = \"))\n",
    "    total = price * qty\n",
    "    bill = bill + name + \" \" + str(price) + \" \" + str(qty) + \" \" + str(total) + \"\\n\"\n",
    "    all_total = all_total + total\n",
    "    i = i+1\n",
    "print(bill)"
   ]
  },
  {
   "cell_type": "code",
   "execution_count": null,
   "id": "f13b176c",
   "metadata": {},
   "outputs": [],
   "source": [
    "# control statements\n",
    "# continue\n",
    "# break"
   ]
  },
  {
   "cell_type": "code",
   "execution_count": 5,
   "id": "7e257353",
   "metadata": {},
   "outputs": [
    {
     "name": "stdout",
     "output_type": "stream",
     "text": [
      "0 1 2 3 4 "
     ]
    }
   ],
   "source": [
    "# break:\n",
    "i = 0\n",
    "while i<10:\n",
    "    if i == 5:     \n",
    "        break\n",
    "    print(i,end = \" \")\n",
    "    i = i+1"
   ]
  },
  {
   "cell_type": "code",
   "execution_count": 1,
   "id": "a2a5ee3a",
   "metadata": {},
   "outputs": [
    {
     "name": "stdout",
     "output_type": "stream",
     "text": [
      "0 1 2 3 4 6 7 8 9 "
     ]
    }
   ],
   "source": [
    "# control statement\n",
    "i = 0\n",
    "while i<10:\n",
    "    if i == 5: \n",
    "        i = i+1\n",
    "        continue\n",
    "    print(i,end = \" \")\n",
    "    i = i+1"
   ]
  },
  {
   "cell_type": "code",
   "execution_count": 1,
   "id": "3037892b",
   "metadata": {},
   "outputs": [
    {
     "name": "stdout",
     "output_type": "stream",
     "text": [
      "Enter n = 7\n",
      "The no is prime\n"
     ]
    }
   ],
   "source": [
    "# WAP to detect if the given number is prime or composite\n",
    "# for else loop\n",
    "# prime = 2,3,4,5,7,11,13\n",
    "# composite = 4,6,8,9,10\n",
    "\n",
    "i = 2\n",
    "n = int(input(\"Enter n = \"))\n",
    "while i<n:  \n",
    "    if n % i == 0:\n",
    "        print(\"The no is composite\")\n",
    "        break\n",
    "    i = i+1\n",
    "else:\n",
    "    print(\"The no is prime\")"
   ]
  },
  {
   "cell_type": "code",
   "execution_count": 2,
   "id": "74c7e780",
   "metadata": {},
   "outputs": [
    {
     "name": "stdout",
     "output_type": "stream",
     "text": [
      "0 0\n",
      "0 1\n",
      "1 0\n",
      "1 1\n"
     ]
    }
   ],
   "source": [
    "# nested for loop\n",
    "for i in range(2):\n",
    "    for j in range(2):\n",
    "        print(i,j)"
   ]
  },
  {
   "cell_type": "code",
   "execution_count": 12,
   "id": "5380ad07",
   "metadata": {},
   "outputs": [
    {
     "ename": "IndentationError",
     "evalue": "unindent does not match any outer indentation level (<tokenize>, line 4)",
     "output_type": "error",
     "traceback": [
      "\u001b[1;36m  File \u001b[1;32m<tokenize>:4\u001b[1;36m\u001b[0m\n\u001b[1;33m    c = c-1\u001b[0m\n\u001b[1;37m    ^\u001b[0m\n\u001b[1;31mIndentationError\u001b[0m\u001b[1;31m:\u001b[0m unindent does not match any outer indentation level\n"
     ]
    }
   ],
   "source": [
    "c = 5\n",
    "for i in range(5):\n",
    "     print(c * \" \",(2*i-1) * \"o)\n",
    "    c = c-1"
   ]
  },
  {
   "cell_type": "code",
   "execution_count": 13,
   "id": "17816ac6",
   "metadata": {},
   "outputs": [
    {
     "name": "stdout",
     "output_type": "stream",
     "text": [
      "\n",
      "*\n",
      "**\n",
      "***\n",
      "****\n"
     ]
    }
   ],
   "source": [
    "for i in range(5):\n",
    "     print(i*\"*\")"
   ]
  },
  {
   "cell_type": "code",
   "execution_count": null,
   "id": "861e3bd6",
   "metadata": {},
   "outputs": [],
   "source": [
    "loops in string"
   ]
  },
  {
   "cell_type": "code",
   "execution_count": null,
   "id": "490f630d",
   "metadata": {},
   "outputs": [],
   "source": []
  },
  {
   "cell_type": "code",
   "execution_count": null,
   "id": "1ce5916b",
   "metadata": {},
   "outputs": [],
   "source": []
  },
  {
   "cell_type": "code",
   "execution_count": null,
   "id": "7ce79562",
   "metadata": {},
   "outputs": [],
   "source": []
  },
  {
   "cell_type": "code",
   "execution_count": null,
   "id": "fefb1a69",
   "metadata": {},
   "outputs": [],
   "source": []
  },
  {
   "cell_type": "code",
   "execution_count": null,
   "id": "5bbfe651",
   "metadata": {},
   "outputs": [],
   "source": []
  },
  {
   "cell_type": "code",
   "execution_count": null,
   "id": "4310af39",
   "metadata": {},
   "outputs": [],
   "source": []
  },
  {
   "cell_type": "code",
   "execution_count": null,
   "id": "a3b5d4bf",
   "metadata": {},
   "outputs": [],
   "source": []
  },
  {
   "cell_type": "code",
   "execution_count": null,
   "id": "d4730176",
   "metadata": {},
   "outputs": [],
   "source": []
  },
  {
   "cell_type": "code",
   "execution_count": null,
   "id": "28d2f6ee",
   "metadata": {},
   "outputs": [],
   "source": []
  }
 ],
 "metadata": {
  "kernelspec": {
   "display_name": "Python 3 (ipykernel)",
   "language": "python",
   "name": "python3"
  },
  "language_info": {
   "codemirror_mode": {
    "name": "ipython",
    "version": 3
   },
   "file_extension": ".py",
   "mimetype": "text/x-python",
   "name": "python",
   "nbconvert_exporter": "python",
   "pygments_lexer": "ipython3",
   "version": "3.11.3"
  }
 },
 "nbformat": 4,
 "nbformat_minor": 5
}
