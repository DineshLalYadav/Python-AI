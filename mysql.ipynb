{
 "cells": [
  {
   "cell_type": "code",
   "execution_count": null,
   "id": "ae32e134",
   "metadata": {},
   "outputs": [],
   "source": [
    "import mysql.connector\n",
    "#importing database\n",
    "mysql.connector.connect(\n",
    "    host=\"localhost\",\n",
    "    user=\"root\",\n",
    "    password=\"9808676867\",\n",
    "    database = 'student'\n",
    "    )\n",
    "db = database.cursor()"
   ]
  },
  {
   "cell_type": "code",
   "execution_count": null,
   "id": "189469af",
   "metadata": {},
   "outputs": [],
   "source": [
    "db.execute(\"SELECT * FROM student\")\n",
    "result = db.fetchall()\n",
    "# print(result)\n",
    "for x in results:\n",
    "    print(x)"
   ]
  },
  {
   "cell_type": "code",
   "execution_count": null,
   "id": "f45a72ff",
   "metadata": {},
   "outputs": [],
   "source": [
    "db.execute(\"SELECT sn,name,total,per,grade FROM student\")\n",
    "result = db.fetchall()\n",
    "# print(result)\n",
    "for x in results:\n",
    "    print(x) "
   ]
  },
  {
   "cell_type": "code",
   "execution_count": null,
   "id": "79b476bb",
   "metadata": {},
   "outputs": [],
   "source": [
    "# db.execute(\"SELECT * FROM student where grade = 'A'\")\n",
    "db.execute(\"SELECT * FROM student where per > 80\")\n",
    "result = db.fetchall()\n",
    "# print(result)\n",
    "for x in results:\n",
    "    print(x) "
   ]
  },
  {
   "cell_type": "code",
   "execution_count": null,
   "id": "12251b6d",
   "metadata": {},
   "outputs": [],
   "source": [
    "db.execute(\"SELECT * FROM student where name = 'Rakesh'\")\n",
    "result = db.fetchall()\n",
    "# print(result)\n",
    "for x in results:\n",
    "    print(x)"
   ]
  },
  {
   "cell_type": "code",
   "execution_count": null,
   "id": "26304d22",
   "metadata": {},
   "outputs": [],
   "source": [
    "# insert\n",
    "English = int(input(\"Enter English =\"))\n",
    "Physics = int(input(\"Enter Physics =\"))\n",
    "Math = int(input(\"Enter Math =\"))\n",
    "Nepali = int(input(\"Enter Nepali =\"))\n",
    "Chemistry = int(input(\"Enter Chemistry =\"))\n",
    "\n",
    "total = English + Physics + Math + Nepali + Chemistry\n",
    "\n",
    "per = total/500*100\n",
    "\n",
    "if per >= 80:\n",
    "    grade = 'A'\n",
    "elif per >=60:\n",
    "    grade = 'B'\n",
    "elif per >=45:\n",
    "    grade = 'C'\n",
    "else:\n",
    "    grade = 'F'\n",
    "    \n",
    "    \n",
    "    sql = '''INSERT INTO student(name,physics,chemistry,math,english,nepali,total,per,grade) \n",
    "        Values ('Nabin',90, 78, 67, 99, 90, 400, 75, 'A')'''\n",
    "    db.execute(sql)\n",
    "database.commit()"
   ]
  },
  {
   "cell_type": "code",
   "execution_count": null,
   "id": "6f9da7e4",
   "metadata": {},
   "outputs": [],
   "source": [
    "# update\n",
    "name = input(\"Enter name = \")\n",
    "sn = int(input(\"Enter sn = \"))\n",
    "sql = f\"UPDATE student SET name '{name}' WHERE sn = \n"
   ]
  },
  {
   "cell_type": "code",
   "execution_count": null,
   "id": "657dbb26",
   "metadata": {},
   "outputs": [],
   "source": []
  },
  {
   "cell_type": "code",
   "execution_count": null,
   "id": "4e1e55f6",
   "metadata": {},
   "outputs": [],
   "source": []
  },
  {
   "cell_type": "code",
   "execution_count": null,
   "id": "f9043096",
   "metadata": {},
   "outputs": [],
   "source": []
  }
 ],
 "metadata": {
  "kernelspec": {
   "display_name": "Python 3 (ipykernel)",
   "language": "python",
   "name": "python3"
  },
  "language_info": {
   "codemirror_mode": {
    "name": "ipython",
    "version": 3
   },
   "file_extension": ".py",
   "mimetype": "text/x-python",
   "name": "python",
   "nbconvert_exporter": "python",
   "pygments_lexer": "ipython3",
   "version": "3.11.3"
  }
 },
 "nbformat": 4,
 "nbformat_minor": 5
}
