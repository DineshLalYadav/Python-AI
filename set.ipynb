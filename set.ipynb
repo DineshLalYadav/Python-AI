{
 "cells": [
  {
   "cell_type": "code",
   "execution_count": null,
   "id": "5c213a69",
   "metadata": {},
   "outputs": [],
   "source": [
    "# # set\n",
    "# -No indexing\n",
    "# -Multiple value but no duplicate value\n",
    "# -UnOrdered\n",
    "# -Mutable"
   ]
  },
  {
   "cell_type": "code",
   "execution_count": 1,
   "id": "faaab6d3",
   "metadata": {},
   "outputs": [
    {
     "name": "stdout",
     "output_type": "stream",
     "text": [
      "<class 'set'>\n",
      "{0, 1, 2, 3, 4, 5, 6, 7, 8, 9}\n"
     ]
    }
   ],
   "source": [
    "s = {1,2,3,4,5,6,7,8,9,0}\n",
    "print(type(s))\n",
    "print(s)"
   ]
  },
  {
   "cell_type": "code",
   "execution_count": 2,
   "id": "6b71efff",
   "metadata": {},
   "outputs": [
    {
     "data": {
      "text/plain": [
       "set()"
      ]
     },
     "execution_count": 2,
     "metadata": {},
     "output_type": "execute_result"
    }
   ],
   "source": [
    "a = set()\n",
    "a"
   ]
  },
  {
   "cell_type": "code",
   "execution_count": 5,
   "id": "9d13f4f3",
   "metadata": {},
   "outputs": [
    {
     "name": "stdout",
     "output_type": "stream",
     "text": [
      "{'Ball', 'Fish', 'Cat', 'Apple', 'Dog', 'Goat'}\n"
     ]
    }
   ],
   "source": [
    "a = {\"Apple\",\"Ball\",\"Cat\",\"Dog\",\"Fish\",\"Goat\"}\n",
    "print(a)"
   ]
  },
  {
   "cell_type": "code",
   "execution_count": 11,
   "id": "dc9c5f30",
   "metadata": {},
   "outputs": [
    {
     "ename": "TypeError",
     "evalue": "'set' object is not subscriptable",
     "output_type": "error",
     "traceback": [
      "\u001b[1;31m---------------------------------------------------------------------------\u001b[0m",
      "\u001b[1;31mTypeError\u001b[0m                                 Traceback (most recent call last)",
      "Cell \u001b[1;32mIn[11], line 1\u001b[0m\n\u001b[1;32m----> 1\u001b[0m a[\u001b[38;5;241m0\u001b[39m]\n",
      "\u001b[1;31mTypeError\u001b[0m: 'set' object is not subscriptable"
     ]
    }
   ],
   "source": [
    "a[0]"
   ]
  },
  {
   "cell_type": "code",
   "execution_count": 1,
   "id": "c06c2aa2",
   "metadata": {},
   "outputs": [
    {
     "name": "stdout",
     "output_type": "stream",
     "text": [
      "Apple\n",
      "Ball\n",
      "Cat\n",
      "Fish\n",
      "Dog\n",
      "Goat\n"
     ]
    }
   ],
   "source": [
    "a = {\"Apple\",\"Ball\",\"Cat\",\"Dog\",\"Fish\",\"Goat\"}\n",
    "\n",
    "for i in a:\n",
    "    print(i)"
   ]
  },
  {
   "cell_type": "code",
   "execution_count": 2,
   "id": "252f692f",
   "metadata": {},
   "outputs": [
    {
     "data": {
      "text/plain": [
       "{'Apple', 'Ball', 'Cat', 'Dog', 'Fish', 'Goat'}"
      ]
     },
     "execution_count": 2,
     "metadata": {},
     "output_type": "execute_result"
    }
   ],
   "source": [
    "a = {\"Apple\",\"Ball\",\"Cat\",\"Dog\",\"Fish\",\"Goat\",\"Apple\",\"Ball\",\"Ball\",\"Cat\"}\n",
    "a"
   ]
  },
  {
   "cell_type": "code",
   "execution_count": null,
   "id": "3cb0a918",
   "metadata": {},
   "outputs": [],
   "source": [
    "# Set\n",
    "# add()\n",
    "# remove()\n",
    "# update()"
   ]
  },
  {
   "cell_type": "code",
   "execution_count": 3,
   "id": "0006319a",
   "metadata": {},
   "outputs": [
    {
     "data": {
      "text/plain": [
       "{'Apple', 'Ball', 'Cat'}"
      ]
     },
     "execution_count": 3,
     "metadata": {},
     "output_type": "execute_result"
    }
   ],
   "source": [
    "s = set()\n",
    "s.add(\"Apple\")\n",
    "s.add(\"Ball\")\n",
    "s.add(\"Cat\")\n",
    "s"
   ]
  },
  {
   "cell_type": "code",
   "execution_count": 4,
   "id": "63b34915",
   "metadata": {},
   "outputs": [
    {
     "data": {
      "text/plain": [
       "{1, 2, 3, 4, 5, 6, 'Apple', 'Ball', 'Cat'}"
      ]
     },
     "execution_count": 4,
     "metadata": {},
     "output_type": "execute_result"
    }
   ],
   "source": [
    "a = {\"Apple\",\"Ball\",\"Cat\"}\n",
    "b = {1,2,3,4,5,6}\n",
    "a.update(b)\n",
    "a"
   ]
  },
  {
   "cell_type": "code",
   "execution_count": null,
   "id": "23de8320",
   "metadata": {},
   "outputs": [],
   "source": [
    "# intersection()\n",
    "# union()\n",
    "# difference()"
   ]
  },
  {
   "cell_type": "code",
   "execution_count": 5,
   "id": "c14b86b7",
   "metadata": {},
   "outputs": [
    {
     "data": {
      "text/plain": [
       "{'css', 'django', 'html', 'python'}"
      ]
     },
     "execution_count": 5,
     "metadata": {},
     "output_type": "execute_result"
    }
   ],
   "source": [
    "skills = {'python','html','django','css','js'}\n",
    "job = {'python','django','html','css','java','c','c++','.net'}\n",
    "\n",
    "skills.intersection(job)  #common values\n"
   ]
  },
  {
   "cell_type": "code",
   "execution_count": 6,
   "id": "89f3289f",
   "metadata": {},
   "outputs": [
    {
     "data": {
      "text/plain": [
       "{'.net', 'c', 'c++', 'css', 'django', 'html', 'java', 'js', 'python'}"
      ]
     },
     "execution_count": 6,
     "metadata": {},
     "output_type": "execute_result"
    }
   ],
   "source": [
    "skills.union(job)"
   ]
  },
  {
   "cell_type": "code",
   "execution_count": 9,
   "id": "1c1e6c3d",
   "metadata": {},
   "outputs": [
    {
     "data": {
      "text/plain": [
       "{'js'}"
      ]
     },
     "execution_count": 9,
     "metadata": {},
     "output_type": "execute_result"
    }
   ],
   "source": [
    "# skills in you but not  in job\n",
    "skills.difference(job)\n"
   ]
  },
  {
   "cell_type": "code",
   "execution_count": 10,
   "id": "04ccce47",
   "metadata": {},
   "outputs": [
    {
     "data": {
      "text/plain": [
       "{'.net', 'c', 'c++', 'java'}"
      ]
     },
     "execution_count": 10,
     "metadata": {},
     "output_type": "execute_result"
    }
   ],
   "source": [
    "# skills in you but not  in job\n",
    "job.difference(skills)\n"
   ]
  },
  {
   "cell_type": "code",
   "execution_count": null,
   "id": "c58edacf",
   "metadata": {},
   "outputs": [],
   "source": [
    "# WAP to create set taking values from users"
   ]
  },
  {
   "cell_type": "code",
   "execution_count": null,
   "id": "2ed6add8",
   "metadata": {},
   "outputs": [],
   "source": [
    "# No mutable datatype inside set\n",
    "# inside set no list dict set"
   ]
  },
  {
   "cell_type": "code",
   "execution_count": 2,
   "id": "20308275",
   "metadata": {},
   "outputs": [
    {
     "ename": "TypeError",
     "evalue": "unhashable type: 'list'",
     "output_type": "error",
     "traceback": [
      "\u001b[1;31m---------------------------------------------------------------------------\u001b[0m",
      "\u001b[1;31mTypeError\u001b[0m                                 Traceback (most recent call last)",
      "Cell \u001b[1;32mIn[2], line 1\u001b[0m\n\u001b[1;32m----> 1\u001b[0m s \u001b[38;5;241m=\u001b[39m {[\u001b[38;5;241m1\u001b[39m,\u001b[38;5;241m2\u001b[39m,\u001b[38;5;241m3\u001b[39m,],[\u001b[38;5;241m4\u001b[39m,\u001b[38;5;241m5\u001b[39m,\u001b[38;5;241m6\u001b[39m],[\u001b[38;5;241m7\u001b[39m,\u001b[38;5;241m8\u001b[39m,\u001b[38;5;241m9\u001b[39m]}\n\u001b[0;32m      2\u001b[0m s\n",
      "\u001b[1;31mTypeError\u001b[0m: unhashable type: 'list'"
     ]
    }
   ],
   "source": [
    "s = {[1,2,3,],[4,5,6],[7,8,9]}\n",
    "s"
   ]
  },
  {
   "cell_type": "code",
   "execution_count": 3,
   "id": "713e443f",
   "metadata": {},
   "outputs": [
    {
     "data": {
      "text/plain": [
       "{(1, 2, 3), (4, 5, 6), (7, 8, 9)}"
      ]
     },
     "execution_count": 3,
     "metadata": {},
     "output_type": "execute_result"
    }
   ],
   "source": [
    "s = {(1,2,3,),(4,5,6),(7,8,9)}\n",
    "s"
   ]
  },
  {
   "cell_type": "code",
   "execution_count": null,
   "id": "9c4571a3",
   "metadata": {},
   "outputs": [],
   "source": []
  },
  {
   "cell_type": "code",
   "execution_count": null,
   "id": "4de58f16",
   "metadata": {},
   "outputs": [],
   "source": []
  }
 ],
 "metadata": {
  "kernelspec": {
   "display_name": "Python 3 (ipykernel)",
   "language": "python",
   "name": "python3"
  },
  "language_info": {
   "codemirror_mode": {
    "name": "ipython",
    "version": 3
   },
   "file_extension": ".py",
   "mimetype": "text/x-python",
   "name": "python",
   "nbconvert_exporter": "python",
   "pygments_lexer": "ipython3",
   "version": "3.11.3"
  }
 },
 "nbformat": 4,
 "nbformat_minor": 5
}
