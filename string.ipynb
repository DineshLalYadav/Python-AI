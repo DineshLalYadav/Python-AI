{
 "cells": [
  {
   "cell_type": "code",
   "execution_count": null,
   "id": "dc642c5b",
   "metadata": {},
   "outputs": [],
   "source": [
    "a = 'Hello World'\n",
    "b = \"Hello World\"\n",
    "c = '''Hello World'''\n",
    "print(type(a))\n",
    "print(type(b))\n",
    "print(type(c))\n"
   ]
  },
  {
   "cell_type": "code",
   "execution_count": null,
   "id": "474bdae9",
   "metadata": {},
   "outputs": [],
   "source": [
    "a = 'Hello '\n",
    "b = 'World'\n",
    "c = a + b\n",
    "print(c)"
   ]
  },
  {
   "cell_type": "code",
   "execution_count": null,
   "id": "9bf300a3",
   "metadata": {},
   "outputs": [],
   "source": [
    "a = \"Hello World\\n\"\n",
    "print(a*2)"
   ]
  },
  {
   "cell_type": "code",
   "execution_count": 20,
   "id": "c92dcfe1",
   "metadata": {},
   "outputs": [
    {
     "name": "stdout",
     "output_type": "stream",
     "text": [
      "Enter a =Hello\n",
      "Hello\n"
     ]
    }
   ],
   "source": [
    "a = input(\"Enter a = \")\n",
    "print(a)"
   ]
  },
  {
   "cell_type": "code",
   "execution_count": 1,
   "id": "21e56ae9",
   "metadata": {},
   "outputs": [
    {
     "name": "stdout",
     "output_type": "stream",
     "text": [
      "H\n",
      "Hello\n",
      "HloWr\n"
     ]
    }
   ],
   "source": [
    "a = \"Hello World\"\n",
    "print(a[0])\n",
    "print(a[0:5])\n",
    "print(a[0:10:2])"
   ]
  },
  {
   "cell_type": "code",
   "execution_count": 2,
   "id": "f9d57047",
   "metadata": {},
   "outputs": [
    {
     "data": {
      "text/plain": [
       "'l'"
      ]
     },
     "execution_count": 2,
     "metadata": {},
     "output_type": "execute_result"
    }
   ],
   "source": [
    "a = \"Hello World\"\n",
    "a[-2]"
   ]
  },
  {
   "cell_type": "code",
   "execution_count": 1,
   "id": "5b7984fc",
   "metadata": {},
   "outputs": [
    {
     "name": "stdout",
     "output_type": "stream",
     "text": [
      "dlroW olleH\n",
      "dlroW olleH\n"
     ]
    }
   ],
   "source": [
    "a = \"Hello World\"\n",
    "print(a[-1:-12:-1])\n",
    "print(a[::-1])"
   ]
  },
  {
   "cell_type": "code",
   "execution_count": 5,
   "id": "f13b4e9d",
   "metadata": {},
   "outputs": [
    {
     "name": "stdout",
     "output_type": "stream",
     "text": [
      "Hello World"
     ]
    }
   ],
   "source": [
    "a = \"Hello World\"\n",
    "l = len(a)\n",
    "for i in range(l):\n",
    "    print(a[i],end = \"\")"
   ]
  },
  {
   "cell_type": "code",
   "execution_count": 21,
   "id": "203139a3",
   "metadata": {},
   "outputs": [
    {
     "name": "stdout",
     "output_type": "stream",
     "text": [
      "Hello world I am Ram I am from Kathmandu I am 34\n"
     ]
    }
   ],
   "source": [
    "# string formatting\n",
    "name = \"Ram\"\n",
    "age = 34\n",
    "add = \"Kathmandu\"\n",
    "\n",
    "info = \"Hello world I am \" + name + \" I am from \" + add + \" I am \" + str(age)\n",
    "print(info)"
   ]
  },
  {
   "cell_type": "code",
   "execution_count": 22,
   "id": "b3dd8201",
   "metadata": {},
   "outputs": [
    {
     "name": "stdout",
     "output_type": "stream",
     "text": [
      "Enter name = Dinesh\n",
      "Enter age = 24\n",
      "Enter add = Kathmandu\n",
      "Hello World I am Dinesh. I am from Kathmandu. I am 24\n"
     ]
    }
   ],
   "source": [
    "# string formatting\n",
    "name = input((\"Enter name = \"))\n",
    "age = int(input(\"Enter age = \"))\n",
    "add = input(\"Enter add = \")\n",
    "\n",
    "info = f\"Hello World I am {name}. I am from {add}. I am {age}\"\n",
    "print(info)"
   ]
  },
  {
   "cell_type": "code",
   "execution_count": 8,
   "id": "6744178a",
   "metadata": {},
   "outputs": [
    {
     "name": "stdout",
     "output_type": "stream",
     "text": [
      "Enter n = 1\n",
      "Enter name = apple\n",
      "Enter price = 24\n",
      "Enter quantity = 2\n",
      "apple 24 2 48\n",
      "\n"
     ]
    }
   ],
   "source": [
    "i = 0\n",
    "bill = \"\"\n",
    "all_total = 0\n",
    "n = int(input(\"Enter n = \"))\n",
    "while i<n:\n",
    "    name = input(\"Enter name = \")\n",
    "    price = int(input(\"Enter price = \"))\n",
    "    qty = int(input(\"Enter quantity = \"))\n",
    "    total = price * qty\n",
    "    bill = bill + f\"{name} {price} {qty} {total}\\n\"\n",
    "    all_total = all_total + total\n",
    "    i = i+1\n",
    "print(bill)"
   ]
  },
  {
   "cell_type": "code",
   "execution_count": 11,
   "id": "f24abfa4",
   "metadata": {},
   "outputs": [
    {
     "name": "stdout",
     "output_type": "stream",
     "text": [
      "Enter name = ram\n",
      "There is no ram\n"
     ]
    }
   ],
   "source": [
    "# search\n",
    "a = \"Ram Shyam Hari Sita Nabin Ram Akash\"\n",
    "name = input(\"Enter name = \")\n",
    "if name in a:\n",
    "    print(\"Yes\")\n",
    "    print(a.count(name))\n",
    "else:\n",
    "    print(\"The is no\",name)"
   ]
  },
  {
   "cell_type": "code",
   "execution_count": 23,
   "id": "0ad6876f",
   "metadata": {},
   "outputs": [
    {
     "name": "stdout",
     "output_type": "stream",
     "text": [
      "RAM SHYAM HARI SITA NABIN RAM AKASH RAMESH\n",
      "ram shyam hari sita nabin ram akash ramesh\n",
      "Ram Shyam Hari Sita Nabin Ram Akash Ramesh\n"
     ]
    }
   ],
   "source": [
    "a = \"Ram Shyam Hari Sita Nabin Ram Akash Ramesh\"\n",
    "print(a.upper())\n",
    "\n",
    "a = \"Ram Shyam Hari Sita Nabin Ram Akash Ramesh\"\n",
    "print(a.lower())\n",
    "\n",
    "print(a)"
   ]
  },
  {
   "cell_type": "code",
   "execution_count": 24,
   "id": "b5bdefb7",
   "metadata": {},
   "outputs": [
    {
     "name": "stdout",
     "output_type": "stream",
     "text": [
      "Enter name = a\n",
      "Yes\n",
      "9\n"
     ]
    }
   ],
   "source": [
    "# search\n",
    "a = \"Ram Shyam Hari Sita Nabin Ram Akash Ramesh\".lower()\n",
    "name = input(\"Enter name = \").lower()\n",
    "if name in a:\n",
    "    print(\"Yes\")\n",
    "    print(a.count(name))\n",
    "else:\n",
    "    print(\"The is no\",name)"
   ]
  },
  {
   "cell_type": "code",
   "execution_count": 25,
   "id": "4d16ef3f",
   "metadata": {},
   "outputs": [
    {
     "name": "stdout",
     "output_type": "stream",
     "text": [
      "ram Shyam Hari Sita Nabin ram Akash ramesh\n"
     ]
    }
   ],
   "source": [
    "# replace\n",
    "a = \"Ram Shyam Hari Sita Nabin Ram Akash Ramesh\"\n",
    "a = a.replace(\"Ram\",\"ram\")\n",
    "print(a)"
   ]
  },
  {
   "cell_type": "code",
   "execution_count": 13,
   "id": "2b357d22",
   "metadata": {},
   "outputs": [
    {
     "name": "stdout",
     "output_type": "stream",
     "text": [
      "ram Shyam Hari Sita Nabin ram Akash\n"
     ]
    }
   ],
   "source": [
    "# replace\n",
    "a = \"Ram Shyam Hari Sita Nabin Ram Akash Ramesh\"\n",
    "a = a.replace(\"Ram \",\"ram \")\n",
    "print(a)"
   ]
  },
  {
   "cell_type": "code",
   "execution_count": 15,
   "id": "bf6c42f4",
   "metadata": {},
   "outputs": [
    {
     "data": {
      "text/plain": [
       "'Shyam Hari Sita Nabin Akash'"
      ]
     },
     "execution_count": 15,
     "metadata": {},
     "output_type": "execute_result"
    }
   ],
   "source": [
    "a = \"Ram Shyam Hari Sita Nabin Ram Akash Ramesh\"\n",
    "a.replace(\"Ram \",\"\")"
   ]
  },
  {
   "cell_type": "code",
   "execution_count": 18,
   "id": "541da5a4",
   "metadata": {},
   "outputs": [
    {
     "data": {
      "text/plain": [
       "'Ram Shyam Hari Sita Nabin Ram Akash'"
      ]
     },
     "execution_count": 18,
     "metadata": {},
     "output_type": "execute_result"
    }
   ],
   "source": [
    "# title() split()\n",
    "a = \"ram shyam hari sita nabin ram akash\"\n",
    "a.title()"
   ]
  },
  {
   "cell_type": "code",
   "execution_count": 19,
   "id": "79a68d91",
   "metadata": {},
   "outputs": [
    {
     "data": {
      "text/plain": [
       "['ram', 'shyam', 'hari', 'sita', 'nabin', 'ram', 'akash']"
      ]
     },
     "execution_count": 19,
     "metadata": {},
     "output_type": "execute_result"
    }
   ],
   "source": [
    "a = \"ram shyam hari sita nabin ram akash\"\n",
    "a.split()"
   ]
  },
  {
   "cell_type": "code",
   "execution_count": null,
   "id": "b9df21d4",
   "metadata": {},
   "outputs": [],
   "source": [
    "a = \"Hello World\"\n",
    "l = len(a)\n",
    "i = 0\n",
    "while i<1:\n",
    "    print()"
   ]
  },
  {
   "cell_type": "code",
   "execution_count": null,
   "id": "df4289e7",
   "metadata": {},
   "outputs": [],
   "source": []
  }
 ],
 "metadata": {
  "kernelspec": {
   "display_name": "Python 3 (ipykernel)",
   "language": "python",
   "name": "python3"
  },
  "language_info": {
   "codemirror_mode": {
    "name": "ipython",
    "version": 3
   },
   "file_extension": ".py",
   "mimetype": "text/x-python",
   "name": "python",
   "nbconvert_exporter": "python",
   "pygments_lexer": "ipython3",
   "version": "3.9.13"
  }
 },
 "nbformat": 4,
 "nbformat_minor": 5
}
